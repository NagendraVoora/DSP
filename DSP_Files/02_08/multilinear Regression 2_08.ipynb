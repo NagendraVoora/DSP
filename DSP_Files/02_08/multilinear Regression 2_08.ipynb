{
 "cells": [
  {
   "cell_type": "code",
   "execution_count": 5,
   "metadata": {},
   "outputs": [],
   "source": [
    "import pandas as pd\n",
    "from sklearn.linear_model import LinearRegression\n",
    "import numpy as np"
   ]
  },
  {
   "cell_type": "code",
   "execution_count": 7,
   "metadata": {},
   "outputs": [
    {
     "name": "stdout",
     "output_type": "stream",
     "text": [
      "model r sq value is:0.8539949564524776\n",
      "6.653055576057275\n",
      "[0.30422909 0.55620341]\n",
      "[ 7.20925899  8.73040446 12.32889881 17.03979999 23.41931139 28.68641597\n",
      " 36.21198981 44.37392058]\n",
      "[ 7.20925899  8.73040446 12.32889881 17.03979999 23.41931139 28.68641597\n",
      " 36.21198981 44.37392058]\n",
      "[ 7.20925899  8.93012399 10.650989   12.37185401 14.09271902]\n"
     ]
    }
   ],
   "source": [
    "x=[[0,1],[5,1],[15,2],[25,5],[35,11],[45,15],[35,34],[60,35]]\n",
    "y=[4,5,20,14,32,22,38,43]\n",
    "\n",
    "x,y=np.array(x),np.array(y)\n",
    "model=LinearRegression()\n",
    "model.fit(x,y)\n",
    "\n",
    "r_sq=model.score(x,y)\n",
    "\n",
    "print(\"model r sq value is:\"+str(r_sq))\n",
    "print(model.intercept_)\n",
    "print(model.coef_)\n",
    "\n",
    "y_pred=model.predict(x)\n",
    "print(y_pred)\n",
    "\n",
    "y_pred=model.intercept_+np.sum(model.coef_*x,axis=1)\n",
    "print(y_pred)\n",
    "\n",
    "x_new=np.arange(10).reshape(-1,2)\n",
    "y_new=model.predict(x_new)\n",
    "print(y_new)"
   ]
  }
 ],
 "metadata": {
  "kernelspec": {
   "display_name": "Python 3",
   "language": "python",
   "name": "python3"
  },
  "language_info": {
   "codemirror_mode": {
    "name": "ipython",
    "version": 3
   },
   "file_extension": ".py",
   "mimetype": "text/x-python",
   "name": "python",
   "nbconvert_exporter": "python",
   "pygments_lexer": "ipython3",
   "version": "3.8.3"
  }
 },
 "nbformat": 4,
 "nbformat_minor": 4
}
