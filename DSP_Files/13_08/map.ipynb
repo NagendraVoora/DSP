{
 "cells": [
  {
   "cell_type": "code",
   "execution_count": 2,
   "metadata": {},
   "outputs": [
    {
     "name": "stdout",
     "output_type": "stream",
     "text": [
      "Collecting package metadata (current_repodata.json): ...working... done\n",
      "Solving environment: ...working... failed with initial frozen solve. Retrying with flexible solve.\n",
      "Collecting package metadata (repodata.json): ...working... done\n",
      "Solving environment: ...working... done\n"
     ]
    },
    {
     "name": "stderr",
     "output_type": "stream",
     "text": [
      "\n",
      "\n",
      "==> WARNING: A newer version of conda exists. <==\n",
      "  current version: 4.8.3"
     ]
    },
    {
     "name": "stdout",
     "output_type": "stream",
     "text": [
      "\n",
      "## Package Plan ##\n",
      "\n",
      "  environment location: C:\\Users\\NAGENDRA VOORA\\anaconda3\n",
      "\n"
     ]
    },
    {
     "name": "stderr",
     "output_type": "stream",
     "text": [
      "\n",
      "  latest version: 4.13.0\n",
      "\n",
      "Please update conda by running\n",
      "\n",
      "    $ conda update -n base -c defaults conda\n",
      "\n",
      "\n"
     ]
    },
    {
     "name": "stdout",
     "output_type": "stream",
     "text": [
      "  added / updated specs:\n",
      "    - folium=0.5.0\n",
      "\n",
      "\n",
      "The following packages will be downloaded:\n",
      "\n",
      "    package                    |            build\n",
      "    ---------------------------|-----------------\n",
      "    altair-4.2.0               |     pyhd8ed1ab_1         711 KB  conda-forge\n",
      "    branca-0.5.0               |     pyhd8ed1ab_0          26 KB  conda-forge\n",
      "    conda-4.12.0               |   py38haa244fe_0         1.0 MB  conda-forge\n",
      "    folium-0.5.0               |             py_0          45 KB  conda-forge\n",
      "    openssl-1.1.1g             |       he774522_0         5.7 MB  conda-forge\n",
      "    python_abi-3.8             |           2_cp38           4 KB  conda-forge\n",
      "    vincent-0.4.4              |             py_1          28 KB  conda-forge\n",
      "    ------------------------------------------------------------\n",
      "                                           Total:         7.5 MB\n",
      "\n",
      "The following NEW packages will be INSTALLED:\n",
      "\n",
      "  altair             conda-forge/noarch::altair-4.2.0-pyhd8ed1ab_1\n",
      "  branca             conda-forge/noarch::branca-0.5.0-pyhd8ed1ab_0\n",
      "  folium             conda-forge/noarch::folium-0.5.0-py_0\n",
      "  python_abi         conda-forge/win-64::python_abi-3.8-2_cp38\n",
      "  vincent            conda-forge/noarch::vincent-0.4.4-py_1\n",
      "\n",
      "The following packages will be UPDATED:\n",
      "\n",
      "  conda                       pkgs/main::conda-4.8.3-py38_0 --> conda-forge::conda-4.12.0-py38haa244fe_0\n",
      "\n",
      "The following packages will be SUPERSEDED by a higher-priority channel:\n",
      "\n",
      "  openssl                                         pkgs/main --> conda-forge\n",
      "\n",
      "\n",
      "\n",
      "Downloading and Extracting Packages\n",
      "\n",
      "folium-0.5.0         | 45 KB     |            |   0% \n",
      "folium-0.5.0         | 45 KB     | ###5       |  35% \n",
      "folium-0.5.0         | 45 KB     | ########## | 100% \n",
      "\n",
      "python_abi-3.8       | 4 KB      |            |   0% \n",
      "python_abi-3.8       | 4 KB      | ########## | 100% \n",
      "\n",
      "openssl-1.1.1g       | 5.7 MB    |            |   0% \n",
      "openssl-1.1.1g       | 5.7 MB    |            |   0% \n",
      "openssl-1.1.1g       | 5.7 MB    | 3          |   3% \n",
      "openssl-1.1.1g       | 5.7 MB    | 5          |   6% \n",
      "openssl-1.1.1g       | 5.7 MB    | 7          |   8% \n",
      "openssl-1.1.1g       | 5.7 MB    | #          |  10% \n",
      "openssl-1.1.1g       | 5.7 MB    | #6         |  16% \n",
      "openssl-1.1.1g       | 5.7 MB    | ##         |  21% \n",
      "openssl-1.1.1g       | 5.7 MB    | ##5        |  26% \n",
      "openssl-1.1.1g       | 5.7 MB    | ###2       |  32% \n",
      "openssl-1.1.1g       | 5.7 MB    | ####       |  41% \n",
      "openssl-1.1.1g       | 5.7 MB    | #####      |  50% \n",
      "openssl-1.1.1g       | 5.7 MB    | #####9     |  59% \n",
      "openssl-1.1.1g       | 5.7 MB    | ######8    |  69% \n",
      "openssl-1.1.1g       | 5.7 MB    | #######9   |  79% \n",
      "openssl-1.1.1g       | 5.7 MB    | ########9  |  89% \n",
      "openssl-1.1.1g       | 5.7 MB    | #########9 | 100% \n",
      "openssl-1.1.1g       | 5.7 MB    | ########## | 100% \n",
      "\n",
      "conda-4.12.0         | 1.0 MB    |            |   0% \n",
      "conda-4.12.0         | 1.0 MB    | 1          |   2% \n",
      "conda-4.12.0         | 1.0 MB    | 4          |   5% \n",
      "conda-4.12.0         | 1.0 MB    | #3         |  14% \n",
      "conda-4.12.0         | 1.0 MB    | ##         |  20% \n",
      "conda-4.12.0         | 1.0 MB    | ##7        |  28% \n",
      "conda-4.12.0         | 1.0 MB    | ###2       |  33% \n",
      "conda-4.12.0         | 1.0 MB    | ####       |  40% \n",
      "conda-4.12.0         | 1.0 MB    | #####1     |  51% \n",
      "conda-4.12.0         | 1.0 MB    | #####7     |  57% \n",
      "conda-4.12.0         | 1.0 MB    | ######3    |  64% \n",
      "conda-4.12.0         | 1.0 MB    | ######9    |  70% \n",
      "conda-4.12.0         | 1.0 MB    | #######7   |  78% \n",
      "conda-4.12.0         | 1.0 MB    | ########2  |  82% \n",
      "conda-4.12.0         | 1.0 MB    | #########  |  90% \n",
      "conda-4.12.0         | 1.0 MB    | ########## | 100% \n",
      "\n",
      "altair-4.2.0         | 711 KB    |            |   0% \n",
      "altair-4.2.0         | 711 KB    | 2          |   2% \n",
      "altair-4.2.0         | 711 KB    | ######     |  61% \n",
      "altair-4.2.0         | 711 KB    | ########## | 100% \n",
      "\n",
      "branca-0.5.0         | 26 KB     |            |   0% \n",
      "branca-0.5.0         | 26 KB     | ######     |  61% \n",
      "branca-0.5.0         | 26 KB     | ########## | 100% \n",
      "\n",
      "vincent-0.4.4        | 28 KB     |            |   0% \n",
      "vincent-0.4.4        | 28 KB     | #####7     |  58% \n",
      "vincent-0.4.4        | 28 KB     | ########## | 100% \n",
      "Preparing transaction: ...working... done\n",
      "Verifying transaction: ...working... done\n",
      "Executing transaction: ...working... done\n"
     ]
    }
   ],
   "source": [
    "!conda install -c conda-forge folium=0.5.0 --yes"
   ]
  },
  {
   "cell_type": "code",
   "execution_count": 1,
   "metadata": {
    "colab": {
     "base_uri": "https://localhost:8080/",
     "height": 798
    },
    "executionInfo": {
     "elapsed": 26,
     "status": "ok",
     "timestamp": 1660110568336,
     "user": {
      "displayName": "Sesha Kumar Nalluri",
      "userId": "07214908308309596051"
     },
     "user_tz": -330
    },
    "id": "QDnglQmcgK8P",
    "outputId": "4fcaa845-7ddd-4e8c-8bf7-c69f37461a23"
   },
   "outputs": [
    {
     "data": {
      "text/html": [
       "<div style=\"width:100%;\"><div style=\"position:relative;width:100%;height:0;padding-bottom:60%;\"><span style=\"color:#565656\">Make this Notebook Trusted to load map: File -> Trust Notebook</span><iframe srcdoc=\"&lt;!DOCTYPE html&gt;\n",
       "&lt;head&gt;    \n",
       "    &lt;meta http-equiv=&quot;content-type&quot; content=&quot;text/html; charset=UTF-8&quot; /&gt;\n",
       "    &lt;script&gt;L_PREFER_CANVAS = false; L_NO_TOUCH = false; L_DISABLE_3D = false;&lt;/script&gt;\n",
       "    &lt;script src=&quot;https://cdn.jsdelivr.net/npm/leaflet@1.2.0/dist/leaflet.js&quot;&gt;&lt;/script&gt;\n",
       "    &lt;script src=&quot;https://ajax.googleapis.com/ajax/libs/jquery/1.11.1/jquery.min.js&quot;&gt;&lt;/script&gt;\n",
       "    &lt;script src=&quot;https://maxcdn.bootstrapcdn.com/bootstrap/3.2.0/js/bootstrap.min.js&quot;&gt;&lt;/script&gt;\n",
       "    &lt;script src=&quot;https://cdnjs.cloudflare.com/ajax/libs/Leaflet.awesome-markers/2.0.2/leaflet.awesome-markers.js&quot;&gt;&lt;/script&gt;\n",
       "    &lt;link rel=&quot;stylesheet&quot; href=&quot;https://cdn.jsdelivr.net/npm/leaflet@1.2.0/dist/leaflet.css&quot;/&gt;\n",
       "    &lt;link rel=&quot;stylesheet&quot; href=&quot;https://maxcdn.bootstrapcdn.com/bootstrap/3.2.0/css/bootstrap.min.css&quot;/&gt;\n",
       "    &lt;link rel=&quot;stylesheet&quot; href=&quot;https://maxcdn.bootstrapcdn.com/bootstrap/3.2.0/css/bootstrap-theme.min.css&quot;/&gt;\n",
       "    &lt;link rel=&quot;stylesheet&quot; href=&quot;https://maxcdn.bootstrapcdn.com/font-awesome/4.6.3/css/font-awesome.min.css&quot;/&gt;\n",
       "    &lt;link rel=&quot;stylesheet&quot; href=&quot;https://cdnjs.cloudflare.com/ajax/libs/Leaflet.awesome-markers/2.0.2/leaflet.awesome-markers.css&quot;/&gt;\n",
       "    &lt;link rel=&quot;stylesheet&quot; href=&quot;https://rawgit.com/python-visualization/folium/master/folium/templates/leaflet.awesome.rotate.css&quot;/&gt;\n",
       "    &lt;style&gt;html, body {width: 100%;height: 100%;margin: 0;padding: 0;}&lt;/style&gt;\n",
       "    &lt;style&gt;#map {position:absolute;top:0;bottom:0;right:0;left:0;}&lt;/style&gt;\n",
       "    \n",
       "            &lt;style&gt; #map_c425c092825ff5c00df9d661396ad2ea {\n",
       "                position : relative;\n",
       "                width : 100.0%;\n",
       "                height: 100.0%;\n",
       "                left: 0.0%;\n",
       "                top: 0.0%;\n",
       "                }\n",
       "            &lt;/style&gt;\n",
       "        \n",
       "&lt;/head&gt;\n",
       "&lt;body&gt;    \n",
       "    \n",
       "            &lt;div class=&quot;folium-map&quot; id=&quot;map_c425c092825ff5c00df9d661396ad2ea&quot; &gt;&lt;/div&gt;\n",
       "        \n",
       "&lt;/body&gt;\n",
       "&lt;script&gt;    \n",
       "    \n",
       "\n",
       "            \n",
       "                var bounds = null;\n",
       "            \n",
       "\n",
       "            var map_c425c092825ff5c00df9d661396ad2ea = L.map(\n",
       "                                  &#x27;map_c425c092825ff5c00df9d661396ad2ea&#x27;,\n",
       "                                  {center: [0,0],\n",
       "                                  zoom: 1,\n",
       "                                  maxBounds: bounds,\n",
       "                                  layers: [],\n",
       "                                  worldCopyJump: false,\n",
       "                                  crs: L.CRS.EPSG3857\n",
       "                                 });\n",
       "            \n",
       "        \n",
       "    \n",
       "            var tile_layer_087b336e3639227bccd613fa396e2d4b = L.tileLayer(\n",
       "                &#x27;https://{s}.tile.openstreetmap.org/{z}/{x}/{y}.png&#x27;,\n",
       "                {\n",
       "  &quot;attribution&quot;: null,\n",
       "  &quot;detectRetina&quot;: false,\n",
       "  &quot;maxZoom&quot;: 18,\n",
       "  &quot;minZoom&quot;: 1,\n",
       "  &quot;noWrap&quot;: false,\n",
       "  &quot;subdomains&quot;: &quot;abc&quot;\n",
       "}\n",
       "                ).addTo(map_c425c092825ff5c00df9d661396ad2ea);\n",
       "        \n",
       "&lt;/script&gt;\" style=\"position:absolute;width:100%;height:100%;left:0;top:0;border:none !important;\" allowfullscreen webkitallowfullscreen mozallowfullscreen></iframe></div></div>"
      ],
      "text/plain": [
       "<folium.folium.Map at 0x21a714727c0>"
      ]
     },
     "execution_count": 1,
     "metadata": {},
     "output_type": "execute_result"
    }
   ],
   "source": [
    "import folium\n",
    "# define the world map\n",
    "world_map = folium.Map()\n",
    "\n",
    "# display world map\n",
    "world_map"
   ]
  },
  {
   "cell_type": "code",
   "execution_count": 2,
   "metadata": {
    "colab": {
     "base_uri": "https://localhost:8080/",
     "height": 798
    },
    "executionInfo": {
     "elapsed": 507,
     "status": "ok",
     "timestamp": 1660110687377,
     "user": {
      "displayName": "Sesha Kumar Nalluri",
      "userId": "07214908308309596051"
     },
     "user_tz": -330
    },
    "id": "eFJ4vuNQg2ek",
    "outputId": "4859b4c5-08fd-48de-e31d-bce6120ab362"
   },
   "outputs": [
    {
     "data": {
      "text/html": [
       "<div style=\"width:100%;\"><div style=\"position:relative;width:100%;height:0;padding-bottom:60%;\"><span style=\"color:#565656\">Make this Notebook Trusted to load map: File -> Trust Notebook</span><iframe srcdoc=\"&lt;!DOCTYPE html&gt;\n",
       "&lt;head&gt;    \n",
       "    &lt;meta http-equiv=&quot;content-type&quot; content=&quot;text/html; charset=UTF-8&quot; /&gt;\n",
       "    &lt;script&gt;L_PREFER_CANVAS = false; L_NO_TOUCH = false; L_DISABLE_3D = false;&lt;/script&gt;\n",
       "    &lt;script src=&quot;https://cdn.jsdelivr.net/npm/leaflet@1.2.0/dist/leaflet.js&quot;&gt;&lt;/script&gt;\n",
       "    &lt;script src=&quot;https://ajax.googleapis.com/ajax/libs/jquery/1.11.1/jquery.min.js&quot;&gt;&lt;/script&gt;\n",
       "    &lt;script src=&quot;https://maxcdn.bootstrapcdn.com/bootstrap/3.2.0/js/bootstrap.min.js&quot;&gt;&lt;/script&gt;\n",
       "    &lt;script src=&quot;https://cdnjs.cloudflare.com/ajax/libs/Leaflet.awesome-markers/2.0.2/leaflet.awesome-markers.js&quot;&gt;&lt;/script&gt;\n",
       "    &lt;link rel=&quot;stylesheet&quot; href=&quot;https://cdn.jsdelivr.net/npm/leaflet@1.2.0/dist/leaflet.css&quot;/&gt;\n",
       "    &lt;link rel=&quot;stylesheet&quot; href=&quot;https://maxcdn.bootstrapcdn.com/bootstrap/3.2.0/css/bootstrap.min.css&quot;/&gt;\n",
       "    &lt;link rel=&quot;stylesheet&quot; href=&quot;https://maxcdn.bootstrapcdn.com/bootstrap/3.2.0/css/bootstrap-theme.min.css&quot;/&gt;\n",
       "    &lt;link rel=&quot;stylesheet&quot; href=&quot;https://maxcdn.bootstrapcdn.com/font-awesome/4.6.3/css/font-awesome.min.css&quot;/&gt;\n",
       "    &lt;link rel=&quot;stylesheet&quot; href=&quot;https://cdnjs.cloudflare.com/ajax/libs/Leaflet.awesome-markers/2.0.2/leaflet.awesome-markers.css&quot;/&gt;\n",
       "    &lt;link rel=&quot;stylesheet&quot; href=&quot;https://rawgit.com/python-visualization/folium/master/folium/templates/leaflet.awesome.rotate.css&quot;/&gt;\n",
       "    &lt;style&gt;html, body {width: 100%;height: 100%;margin: 0;padding: 0;}&lt;/style&gt;\n",
       "    &lt;style&gt;#map {position:absolute;top:0;bottom:0;right:0;left:0;}&lt;/style&gt;\n",
       "    \n",
       "            &lt;style&gt; #map_001f809eeb52a182f69c18c7c1c0198f {\n",
       "                position : relative;\n",
       "                width : 100.0%;\n",
       "                height: 100.0%;\n",
       "                left: 0.0%;\n",
       "                top: 0.0%;\n",
       "                }\n",
       "            &lt;/style&gt;\n",
       "        \n",
       "&lt;/head&gt;\n",
       "&lt;body&gt;    \n",
       "    \n",
       "            &lt;div class=&quot;folium-map&quot; id=&quot;map_001f809eeb52a182f69c18c7c1c0198f&quot; &gt;&lt;/div&gt;\n",
       "        \n",
       "&lt;/body&gt;\n",
       "&lt;script&gt;    \n",
       "    \n",
       "\n",
       "            \n",
       "                var bounds = null;\n",
       "            \n",
       "\n",
       "            var map_001f809eeb52a182f69c18c7c1c0198f = L.map(\n",
       "                                  &#x27;map_001f809eeb52a182f69c18c7c1c0198f&#x27;,\n",
       "                                  {center: [16.785,80.8488],\n",
       "                                  zoom: 10,\n",
       "                                  maxBounds: bounds,\n",
       "                                  layers: [],\n",
       "                                  worldCopyJump: false,\n",
       "                                  crs: L.CRS.EPSG3857\n",
       "                                 });\n",
       "            \n",
       "        \n",
       "    \n",
       "            var tile_layer_19c32b6cff252dba7d7c76ade1b6cbf5 = L.tileLayer(\n",
       "                &#x27;https://{s}.tile.openstreetmap.org/{z}/{x}/{y}.png&#x27;,\n",
       "                {\n",
       "  &quot;attribution&quot;: null,\n",
       "  &quot;detectRetina&quot;: false,\n",
       "  &quot;maxZoom&quot;: 18,\n",
       "  &quot;minZoom&quot;: 1,\n",
       "  &quot;noWrap&quot;: false,\n",
       "  &quot;subdomains&quot;: &quot;abc&quot;\n",
       "}\n",
       "                ).addTo(map_001f809eeb52a182f69c18c7c1c0198f);\n",
       "        \n",
       "&lt;/script&gt;\" style=\"position:absolute;width:100%;height:100%;left:0;top:0;border:none !important;\" allowfullscreen webkitallowfullscreen mozallowfullscreen></iframe></div></div>"
      ],
      "text/plain": [
       "<folium.folium.Map at 0x21a73eb0ac0>"
      ]
     },
     "execution_count": 2,
     "metadata": {},
     "output_type": "execute_result"
    }
   ],
   "source": [
    "nuzvid=folium.Map(location=[16.7850, 80.8488])\n",
    "nuzvid"
   ]
  },
  {
   "cell_type": "code",
   "execution_count": 3,
   "metadata": {
    "colab": {
     "base_uri": "https://localhost:8080/",
     "height": 371
    },
    "executionInfo": {
     "elapsed": 464,
     "status": "ok",
     "timestamp": 1660110874949,
     "user": {
      "displayName": "Sesha Kumar Nalluri",
      "userId": "07214908308309596051"
     },
     "user_tz": -330
    },
    "id": "10FP-uXshKPk",
    "outputId": "60a0292a-a412-4438-bea8-e909e0e2eab0"
   },
   "outputs": [
    {
     "data": {
      "text/html": [
       "<iframe srcdoc=\"&lt;!DOCTYPE html&gt;\n",
       "&lt;head&gt;    \n",
       "    &lt;meta http-equiv=&quot;content-type&quot; content=&quot;text/html; charset=UTF-8&quot; /&gt;\n",
       "    &lt;script&gt;L_PREFER_CANVAS = false; L_NO_TOUCH = false; L_DISABLE_3D = false;&lt;/script&gt;\n",
       "    &lt;script src=&quot;https://cdn.jsdelivr.net/npm/leaflet@1.2.0/dist/leaflet.js&quot;&gt;&lt;/script&gt;\n",
       "    &lt;script src=&quot;https://ajax.googleapis.com/ajax/libs/jquery/1.11.1/jquery.min.js&quot;&gt;&lt;/script&gt;\n",
       "    &lt;script src=&quot;https://maxcdn.bootstrapcdn.com/bootstrap/3.2.0/js/bootstrap.min.js&quot;&gt;&lt;/script&gt;\n",
       "    &lt;script src=&quot;https://cdnjs.cloudflare.com/ajax/libs/Leaflet.awesome-markers/2.0.2/leaflet.awesome-markers.js&quot;&gt;&lt;/script&gt;\n",
       "    &lt;link rel=&quot;stylesheet&quot; href=&quot;https://cdn.jsdelivr.net/npm/leaflet@1.2.0/dist/leaflet.css&quot;/&gt;\n",
       "    &lt;link rel=&quot;stylesheet&quot; href=&quot;https://maxcdn.bootstrapcdn.com/bootstrap/3.2.0/css/bootstrap.min.css&quot;/&gt;\n",
       "    &lt;link rel=&quot;stylesheet&quot; href=&quot;https://maxcdn.bootstrapcdn.com/bootstrap/3.2.0/css/bootstrap-theme.min.css&quot;/&gt;\n",
       "    &lt;link rel=&quot;stylesheet&quot; href=&quot;https://maxcdn.bootstrapcdn.com/font-awesome/4.6.3/css/font-awesome.min.css&quot;/&gt;\n",
       "    &lt;link rel=&quot;stylesheet&quot; href=&quot;https://cdnjs.cloudflare.com/ajax/libs/Leaflet.awesome-markers/2.0.2/leaflet.awesome-markers.css&quot;/&gt;\n",
       "    &lt;link rel=&quot;stylesheet&quot; href=&quot;https://rawgit.com/python-visualization/folium/master/folium/templates/leaflet.awesome.rotate.css&quot;/&gt;\n",
       "    &lt;style&gt;html, body {width: 100%;height: 100%;margin: 0;padding: 0;}&lt;/style&gt;\n",
       "    &lt;style&gt;#map {position:absolute;top:0;bottom:0;right:0;left:0;}&lt;/style&gt;\n",
       "    \n",
       "            &lt;style&gt; #map_2a406258d582dcb7b95292af4f7c93de {\n",
       "                position : relative;\n",
       "                width : 100.0%;\n",
       "                height: 100.0%;\n",
       "                left: 0.0%;\n",
       "                top: 0.0%;\n",
       "                }\n",
       "            &lt;/style&gt;\n",
       "        \n",
       "&lt;/head&gt;\n",
       "&lt;body&gt;    \n",
       "    \n",
       "            &lt;div class=&quot;folium-map&quot; id=&quot;map_2a406258d582dcb7b95292af4f7c93de&quot; &gt;&lt;/div&gt;\n",
       "        \n",
       "&lt;/body&gt;\n",
       "&lt;script&gt;    \n",
       "    \n",
       "\n",
       "            \n",
       "                var bounds = null;\n",
       "            \n",
       "\n",
       "            var map_2a406258d582dcb7b95292af4f7c93de = L.map(\n",
       "                                  &#x27;map_2a406258d582dcb7b95292af4f7c93de&#x27;,\n",
       "                                  {center: [16.785,80.8488],\n",
       "                                  zoom: 12,\n",
       "                                  maxBounds: bounds,\n",
       "                                  layers: [],\n",
       "                                  worldCopyJump: false,\n",
       "                                  crs: L.CRS.EPSG3857\n",
       "                                 });\n",
       "            \n",
       "        \n",
       "    \n",
       "            var tile_layer_b48e8b134313f0fe0318bb53a44ae8c2 = L.tileLayer(\n",
       "                &#x27;https://{s}.tile.openstreetmap.org/{z}/{x}/{y}.png&#x27;,\n",
       "                {\n",
       "  &quot;attribution&quot;: null,\n",
       "  &quot;detectRetina&quot;: false,\n",
       "  &quot;maxZoom&quot;: 14,\n",
       "  &quot;minZoom&quot;: 8,\n",
       "  &quot;noWrap&quot;: false,\n",
       "  &quot;subdomains&quot;: &quot;abc&quot;\n",
       "}\n",
       "                ).addTo(map_2a406258d582dcb7b95292af4f7c93de);\n",
       "        \n",
       "&lt;/script&gt;\" width=\"550\" height=\"350\"style=\"border:none !important;\" \"allowfullscreen\" \"webkitallowfullscreen\" \"mozallowfullscreen\"></iframe>"
      ],
      "text/plain": [
       "<folium.folium.Map at 0x21a71479a60>"
      ]
     },
     "execution_count": 3,
     "metadata": {},
     "output_type": "execute_result"
    }
   ],
   "source": [
    "#resize our map by using the branca library in Python\n",
    "from branca.element import Figure\n",
    "fig=Figure(width=550,height=350)\n",
    "map1=folium.Map(location=[16.7850, 80.8488],zoom_start=12,min_zoom=8,max_zoom=14)\n",
    "fig.add_child(map1)\n",
    "map1"
   ]
  },
  {
   "cell_type": "code",
   "execution_count": 4,
   "metadata": {
    "colab": {
     "base_uri": "https://localhost:8080/",
     "height": 571
    },
    "executionInfo": {
     "elapsed": 448,
     "status": "ok",
     "timestamp": 1660098070337,
     "user": {
      "displayName": "Sesha Kumar Nalluri",
      "userId": "07214908308309596051"
     },
     "user_tz": -330
    },
    "id": "ekOZwyn_h5fC",
    "outputId": "df4dced1-566f-4631-bead-711b070b749d"
   },
   "outputs": [
    {
     "data": {
      "text/html": [
       "<iframe srcdoc=\"&lt;!DOCTYPE html&gt;\n",
       "&lt;head&gt;    \n",
       "    &lt;meta http-equiv=&quot;content-type&quot; content=&quot;text/html; charset=UTF-8&quot; /&gt;\n",
       "    &lt;script&gt;L_PREFER_CANVAS = false; L_NO_TOUCH = false; L_DISABLE_3D = false;&lt;/script&gt;\n",
       "    &lt;script src=&quot;https://cdn.jsdelivr.net/npm/leaflet@1.2.0/dist/leaflet.js&quot;&gt;&lt;/script&gt;\n",
       "    &lt;script src=&quot;https://ajax.googleapis.com/ajax/libs/jquery/1.11.1/jquery.min.js&quot;&gt;&lt;/script&gt;\n",
       "    &lt;script src=&quot;https://maxcdn.bootstrapcdn.com/bootstrap/3.2.0/js/bootstrap.min.js&quot;&gt;&lt;/script&gt;\n",
       "    &lt;script src=&quot;https://cdnjs.cloudflare.com/ajax/libs/Leaflet.awesome-markers/2.0.2/leaflet.awesome-markers.js&quot;&gt;&lt;/script&gt;\n",
       "    &lt;link rel=&quot;stylesheet&quot; href=&quot;https://cdn.jsdelivr.net/npm/leaflet@1.2.0/dist/leaflet.css&quot;/&gt;\n",
       "    &lt;link rel=&quot;stylesheet&quot; href=&quot;https://maxcdn.bootstrapcdn.com/bootstrap/3.2.0/css/bootstrap.min.css&quot;/&gt;\n",
       "    &lt;link rel=&quot;stylesheet&quot; href=&quot;https://maxcdn.bootstrapcdn.com/bootstrap/3.2.0/css/bootstrap-theme.min.css&quot;/&gt;\n",
       "    &lt;link rel=&quot;stylesheet&quot; href=&quot;https://maxcdn.bootstrapcdn.com/font-awesome/4.6.3/css/font-awesome.min.css&quot;/&gt;\n",
       "    &lt;link rel=&quot;stylesheet&quot; href=&quot;https://cdnjs.cloudflare.com/ajax/libs/Leaflet.awesome-markers/2.0.2/leaflet.awesome-markers.css&quot;/&gt;\n",
       "    &lt;link rel=&quot;stylesheet&quot; href=&quot;https://rawgit.com/python-visualization/folium/master/folium/templates/leaflet.awesome.rotate.css&quot;/&gt;\n",
       "    &lt;style&gt;html, body {width: 100%;height: 100%;margin: 0;padding: 0;}&lt;/style&gt;\n",
       "    &lt;style&gt;#map {position:absolute;top:0;bottom:0;right:0;left:0;}&lt;/style&gt;\n",
       "    \n",
       "            &lt;style&gt; #map_bcc644b672965fe259cdc75c5a0793bb {\n",
       "                position : relative;\n",
       "                width : 100.0%;\n",
       "                height: 100.0%;\n",
       "                left: 0.0%;\n",
       "                top: 0.0%;\n",
       "                }\n",
       "            &lt;/style&gt;\n",
       "        \n",
       "&lt;/head&gt;\n",
       "&lt;body&gt;    \n",
       "    \n",
       "            &lt;div class=&quot;folium-map&quot; id=&quot;map_bcc644b672965fe259cdc75c5a0793bb&quot; &gt;&lt;/div&gt;\n",
       "        \n",
       "&lt;/body&gt;\n",
       "&lt;script&gt;    \n",
       "    \n",
       "\n",
       "            \n",
       "                var bounds = null;\n",
       "            \n",
       "\n",
       "            var map_bcc644b672965fe259cdc75c5a0793bb = L.map(\n",
       "                                  &#x27;map_bcc644b672965fe259cdc75c5a0793bb&#x27;,\n",
       "                                  {center: [16.785,80.8488],\n",
       "                                  zoom: 10,\n",
       "                                  maxBounds: bounds,\n",
       "                                  layers: [],\n",
       "                                  worldCopyJump: false,\n",
       "                                  crs: L.CRS.EPSG3857\n",
       "                                 });\n",
       "            \n",
       "        \n",
       "    \n",
       "            var tile_layer_f33230144bf91d59cb46e4d1c87d25aa = L.tileLayer(\n",
       "                &#x27;https://{s}.tile.openstreetmap.org/{z}/{x}/{y}.png&#x27;,\n",
       "                {\n",
       "  &quot;attribution&quot;: null,\n",
       "  &quot;detectRetina&quot;: false,\n",
       "  &quot;maxZoom&quot;: 18,\n",
       "  &quot;minZoom&quot;: 1,\n",
       "  &quot;noWrap&quot;: false,\n",
       "  &quot;subdomains&quot;: &quot;abc&quot;\n",
       "}\n",
       "                ).addTo(map_bcc644b672965fe259cdc75c5a0793bb);\n",
       "        \n",
       "    \n",
       "            var tile_layer_5ea0d92622801218ae37237eba42d4c0 = L.tileLayer(\n",
       "                &#x27;https://stamen-tiles-{s}.a.ssl.fastly.net/terrain/{z}/{x}/{y}.jpg&#x27;,\n",
       "                {\n",
       "  &quot;attribution&quot;: null,\n",
       "  &quot;detectRetina&quot;: false,\n",
       "  &quot;maxZoom&quot;: 18,\n",
       "  &quot;minZoom&quot;: 1,\n",
       "  &quot;noWrap&quot;: false,\n",
       "  &quot;subdomains&quot;: &quot;abc&quot;\n",
       "}\n",
       "                ).addTo(map_bcc644b672965fe259cdc75c5a0793bb);\n",
       "        \n",
       "    \n",
       "            var tile_layer_f9ccfb5f121617554ba1769a399bc047 = L.tileLayer(\n",
       "                &#x27;https://stamen-tiles-{s}.a.ssl.fastly.net/toner/{z}/{x}/{y}.png&#x27;,\n",
       "                {\n",
       "  &quot;attribution&quot;: null,\n",
       "  &quot;detectRetina&quot;: false,\n",
       "  &quot;maxZoom&quot;: 18,\n",
       "  &quot;minZoom&quot;: 1,\n",
       "  &quot;noWrap&quot;: false,\n",
       "  &quot;subdomains&quot;: &quot;abc&quot;\n",
       "}\n",
       "                ).addTo(map_bcc644b672965fe259cdc75c5a0793bb);\n",
       "        \n",
       "    \n",
       "            var tile_layer_4c93d849aa0d1ceee4492d57e2628348 = L.tileLayer(\n",
       "                &#x27;https://stamen-tiles-{s}.a.ssl.fastly.net/watercolor/{z}/{x}/{y}.jpg&#x27;,\n",
       "                {\n",
       "  &quot;attribution&quot;: null,\n",
       "  &quot;detectRetina&quot;: false,\n",
       "  &quot;maxZoom&quot;: 18,\n",
       "  &quot;minZoom&quot;: 1,\n",
       "  &quot;noWrap&quot;: false,\n",
       "  &quot;subdomains&quot;: &quot;abc&quot;\n",
       "}\n",
       "                ).addTo(map_bcc644b672965fe259cdc75c5a0793bb);\n",
       "        \n",
       "    \n",
       "            var tile_layer_869f11facb98b2d68f7342260faba258 = L.tileLayer(\n",
       "                &#x27;https://cartodb-basemaps-{s}.global.ssl.fastly.net/light_all/{z}/{x}/{y}.png&#x27;,\n",
       "                {\n",
       "  &quot;attribution&quot;: null,\n",
       "  &quot;detectRetina&quot;: false,\n",
       "  &quot;maxZoom&quot;: 18,\n",
       "  &quot;minZoom&quot;: 1,\n",
       "  &quot;noWrap&quot;: false,\n",
       "  &quot;subdomains&quot;: &quot;abc&quot;\n",
       "}\n",
       "                ).addTo(map_bcc644b672965fe259cdc75c5a0793bb);\n",
       "        \n",
       "    \n",
       "            var tile_layer_15289a7e8354bf6aea9feb4beae43b4b = L.tileLayer(\n",
       "                &#x27;https://cartodb-basemaps-{s}.global.ssl.fastly.net/dark_all/{z}/{x}/{y}.png&#x27;,\n",
       "                {\n",
       "  &quot;attribution&quot;: null,\n",
       "  &quot;detectRetina&quot;: false,\n",
       "  &quot;maxZoom&quot;: 18,\n",
       "  &quot;minZoom&quot;: 1,\n",
       "  &quot;noWrap&quot;: false,\n",
       "  &quot;subdomains&quot;: &quot;abc&quot;\n",
       "}\n",
       "                ).addTo(map_bcc644b672965fe259cdc75c5a0793bb);\n",
       "        \n",
       "    \n",
       "            var layer_control_ee090798facf03ddc3596b2eb535e5ce = {\n",
       "                base_layers : { &quot;openstreetmap&quot; : tile_layer_f33230144bf91d59cb46e4d1c87d25aa,&quot;stamenterrain&quot; : tile_layer_5ea0d92622801218ae37237eba42d4c0,&quot;stamentoner&quot; : tile_layer_f9ccfb5f121617554ba1769a399bc047,&quot;stamenwatercolor&quot; : tile_layer_4c93d849aa0d1ceee4492d57e2628348,&quot;cartodbpositron&quot; : tile_layer_869f11facb98b2d68f7342260faba258,&quot;cartodbdark_matter&quot; : tile_layer_15289a7e8354bf6aea9feb4beae43b4b, },\n",
       "                overlays : {  }\n",
       "                };\n",
       "            L.control.layers(\n",
       "                layer_control_ee090798facf03ddc3596b2eb535e5ce.base_layers,\n",
       "                layer_control_ee090798facf03ddc3596b2eb535e5ce.overlays,\n",
       "                {position: &#x27;topright&#x27;,\n",
       "                 collapsed: true,\n",
       "                 autoZIndex: true\n",
       "                }).addTo(map_bcc644b672965fe259cdc75c5a0793bb);\n",
       "        \n",
       "&lt;/script&gt;\" width=\"850\" height=\"550\"style=\"border:none !important;\" \"allowfullscreen\" \"webkitallowfullscreen\" \"mozallowfullscreen\"></iframe>"
      ],
      "text/plain": [
       "<folium.folium.Map at 0x21a73f147f0>"
      ]
     },
     "execution_count": 4,
     "metadata": {},
     "output_type": "execute_result"
    }
   ],
   "source": [
    "fig2=Figure(width=850,height=550)\n",
    "map2=folium.Map(location=[16.7850, 80.8488])\n",
    "fig2.add_child(map2)\n",
    "folium.TileLayer('Stamen Terrain').add_to(map2)\n",
    "folium.TileLayer('Stamen Toner').add_to(map2)\n",
    "folium.TileLayer('Stamen Water Color').add_to(map2)\n",
    "folium.TileLayer('cartodbpositron').add_to(map2)\n",
    "folium.TileLayer('cartodbdark_matter').add_to(map2)\n",
    "folium.LayerControl().add_to(map2)\n",
    "map2"
   ]
  },
  {
   "cell_type": "code",
   "execution_count": 5,
   "metadata": {
    "colab": {
     "base_uri": "https://localhost:8080/",
     "height": 371
    },
    "executionInfo": {
     "elapsed": 429,
     "status": "ok",
     "timestamp": 1660098593532,
     "user": {
      "displayName": "Sesha Kumar Nalluri",
      "userId": "07214908308309596051"
     },
     "user_tz": -330
    },
    "id": "gtFeWGZKjorg",
    "outputId": "9cbe0795-4c9e-4fa7-851d-e3c52ba29d1a"
   },
   "outputs": [
    {
     "ename": "TypeError",
     "evalue": "__init__() got an unexpected keyword argument 'tooltip'",
     "output_type": "error",
     "traceback": [
      "\u001b[1;31m---------------------------------------------------------------------------\u001b[0m",
      "\u001b[1;31mTypeError\u001b[0m                                 Traceback (most recent call last)",
      "\u001b[1;32m<ipython-input-5-eb42635ee358>\u001b[0m in \u001b[0;36m<module>\u001b[1;34m\u001b[0m\n\u001b[0;32m      5\u001b[0m \u001b[1;33m\u001b[0m\u001b[0m\n\u001b[0;32m      6\u001b[0m \u001b[1;31m#Adding markers to the map\u001b[0m\u001b[1;33m\u001b[0m\u001b[1;33m\u001b[0m\u001b[1;33m\u001b[0m\u001b[0m\n\u001b[1;32m----> 7\u001b[1;33m \u001b[0mfolium\u001b[0m\u001b[1;33m.\u001b[0m\u001b[0mMarker\u001b[0m\u001b[1;33m(\u001b[0m\u001b[0mlocation\u001b[0m\u001b[1;33m=\u001b[0m\u001b[1;33m[\u001b[0m\u001b[1;36m16.5062\u001b[0m\u001b[1;33m,\u001b[0m \u001b[1;36m80.6480\u001b[0m\u001b[1;33m]\u001b[0m\u001b[1;33m,\u001b[0m\u001b[0mpopup\u001b[0m\u001b[1;33m=\u001b[0m\u001b[1;34m'Default popup Marker1'\u001b[0m\u001b[1;33m,\u001b[0m\u001b[0mtooltip\u001b[0m\u001b[1;33m=\u001b[0m\u001b[1;34m'Click here to see more details'\u001b[0m\u001b[1;33m)\u001b[0m\u001b[1;33m.\u001b[0m\u001b[0madd_to\u001b[0m\u001b[1;33m(\u001b[0m\u001b[0mmap3\u001b[0m\u001b[1;33m)\u001b[0m\u001b[1;33m\u001b[0m\u001b[1;33m\u001b[0m\u001b[0m\n\u001b[0m\u001b[0;32m      8\u001b[0m \u001b[0mfolium\u001b[0m\u001b[1;33m.\u001b[0m\u001b[0mMarker\u001b[0m\u001b[1;33m(\u001b[0m\u001b[0mlocation\u001b[0m\u001b[1;33m=\u001b[0m\u001b[1;33m[\u001b[0m\u001b[1;36m16.7107\u001b[0m\u001b[1;33m,\u001b[0m \u001b[1;36m81.0952\u001b[0m\u001b[1;33m]\u001b[0m\u001b[1;33m,\u001b[0m\u001b[0mpopup\u001b[0m\u001b[1;33m=\u001b[0m\u001b[1;34m'<strong>Marker3</strong>'\u001b[0m\u001b[1;33m,\u001b[0m\u001b[0mtooltip\u001b[0m\u001b[1;33m=\u001b[0m\u001b[1;34m'<strong>Click here to see Popup</strong>'\u001b[0m\u001b[1;33m)\u001b[0m\u001b[1;33m.\u001b[0m\u001b[0madd_to\u001b[0m\u001b[1;33m(\u001b[0m\u001b[0mmap3\u001b[0m\u001b[1;33m)\u001b[0m\u001b[1;33m\u001b[0m\u001b[1;33m\u001b[0m\u001b[0m\n\u001b[0;32m      9\u001b[0m \u001b[0mfolium\u001b[0m\u001b[1;33m.\u001b[0m\u001b[0mMarker\u001b[0m\u001b[1;33m(\u001b[0m\u001b[0mlocation\u001b[0m\u001b[1;33m=\u001b[0m\u001b[1;33m[\u001b[0m\u001b[1;36m16.3067\u001b[0m\u001b[1;33m,\u001b[0m \u001b[1;36m80.4365\u001b[0m\u001b[1;33m]\u001b[0m\u001b[1;33m,\u001b[0m\u001b[0mpopup\u001b[0m\u001b[1;33m=\u001b[0m\u001b[1;34m'<h3 style=\"color:green;\">Marker2</h3>'\u001b[0m\u001b[1;33m,\u001b[0m\u001b[0mtooltip\u001b[0m\u001b[1;33m=\u001b[0m\u001b[1;34m'<strong>Click here to see Guntur</strong>'\u001b[0m\u001b[1;33m)\u001b[0m\u001b[1;33m.\u001b[0m\u001b[0madd_to\u001b[0m\u001b[1;33m(\u001b[0m\u001b[0mmap3\u001b[0m\u001b[1;33m)\u001b[0m\u001b[1;33m\u001b[0m\u001b[1;33m\u001b[0m\u001b[0m\n",
      "\u001b[1;31mTypeError\u001b[0m: __init__() got an unexpected keyword argument 'tooltip'"
     ]
    }
   ],
   "source": [
    "# Creating Basemap\n",
    "fig3=Figure(width=550,height=350)\n",
    "map3=folium.Map(location=[16.7850, 80.8488],tiles='cartodbpositron',zoom_start=8)\n",
    "fig3.add_child(map3)\n",
    "\n",
    "#Adding markers to the map\n",
    "folium.Marker(location=[16.5062, 80.6480],popup='Default popup Marker1',tooltip='Click here to see more details').add_to(map3)\n",
    "folium.Marker(location=[16.7107, 81.0952],popup='<strong>Marker3</strong>',tooltip='<strong>Click here to see Popup</strong>').add_to(map3)\n",
    "folium.Marker(location=[16.3067, 80.4365],popup='<h3 style=\"color:green;\">Marker2</h3>',tooltip='<strong>Click here to see Guntur</strong>').add_to(map3)\n",
    "\n",
    "map3"
   ]
  },
  {
   "cell_type": "code",
   "execution_count": 6,
   "metadata": {
    "colab": {
     "base_uri": "https://localhost:8080/",
     "height": 371
    },
    "executionInfo": {
     "elapsed": 709,
     "status": "ok",
     "timestamp": 1660098752356,
     "user": {
      "displayName": "Sesha Kumar Nalluri",
      "userId": "07214908308309596051"
     },
     "user_tz": -330
    },
    "id": "FjsdE-tjlyIA",
    "outputId": "ecd043aa-170d-4315-b5c3-f9677153eab1"
   },
   "outputs": [
    {
     "ename": "TypeError",
     "evalue": "__init__() got an unexpected keyword argument 'tooltip'",
     "output_type": "error",
     "traceback": [
      "\u001b[1;31m---------------------------------------------------------------------------\u001b[0m",
      "\u001b[1;31mTypeError\u001b[0m                                 Traceback (most recent call last)",
      "\u001b[1;32m<ipython-input-6-a76d7af1996b>\u001b[0m in \u001b[0;36m<module>\u001b[1;34m\u001b[0m\n\u001b[0;32m      5\u001b[0m \u001b[1;33m\u001b[0m\u001b[0m\n\u001b[0;32m      6\u001b[0m \u001b[1;31m#Adding markers to the map\u001b[0m\u001b[1;33m\u001b[0m\u001b[1;33m\u001b[0m\u001b[1;33m\u001b[0m\u001b[0m\n\u001b[1;32m----> 7\u001b[1;33m \u001b[0mfolium\u001b[0m\u001b[1;33m.\u001b[0m\u001b[0mMarker\u001b[0m\u001b[1;33m(\u001b[0m\u001b[0mlocation\u001b[0m\u001b[1;33m=\u001b[0m\u001b[1;33m[\u001b[0m\u001b[1;36m16.5062\u001b[0m\u001b[1;33m,\u001b[0m \u001b[1;36m80.6480\u001b[0m\u001b[1;33m]\u001b[0m\u001b[1;33m,\u001b[0m\u001b[0mpopup\u001b[0m\u001b[1;33m=\u001b[0m\u001b[1;34m'Default popup Marker1'\u001b[0m\u001b[1;33m,\u001b[0m\u001b[0mtooltip\u001b[0m\u001b[1;33m=\u001b[0m\u001b[1;34m'Click here to see more details'\u001b[0m\u001b[1;33m,\u001b[0m\u001b[0micon\u001b[0m\u001b[1;33m=\u001b[0m\u001b[0mfolium\u001b[0m\u001b[1;33m.\u001b[0m\u001b[0mIcon\u001b[0m\u001b[1;33m(\u001b[0m\u001b[0mcolor\u001b[0m\u001b[1;33m=\u001b[0m\u001b[1;34m'red'\u001b[0m\u001b[1;33m,\u001b[0m\u001b[0micon\u001b[0m\u001b[1;33m=\u001b[0m\u001b[1;34m'none'\u001b[0m\u001b[1;33m)\u001b[0m\u001b[1;33m)\u001b[0m\u001b[1;33m.\u001b[0m\u001b[0madd_to\u001b[0m\u001b[1;33m(\u001b[0m\u001b[0mmap3\u001b[0m\u001b[1;33m)\u001b[0m\u001b[1;33m\u001b[0m\u001b[1;33m\u001b[0m\u001b[0m\n\u001b[0m\u001b[0;32m      8\u001b[0m \u001b[0mfolium\u001b[0m\u001b[1;33m.\u001b[0m\u001b[0mMarker\u001b[0m\u001b[1;33m(\u001b[0m\u001b[0mlocation\u001b[0m\u001b[1;33m=\u001b[0m\u001b[1;33m[\u001b[0m\u001b[1;36m16.7107\u001b[0m\u001b[1;33m,\u001b[0m \u001b[1;36m81.0952\u001b[0m\u001b[1;33m]\u001b[0m\u001b[1;33m,\u001b[0m\u001b[0mpopup\u001b[0m\u001b[1;33m=\u001b[0m\u001b[1;34m'<strong>Marker3</strong>'\u001b[0m\u001b[1;33m,\u001b[0m\u001b[0mtooltip\u001b[0m\u001b[1;33m=\u001b[0m\u001b[1;34m'<strong>Click here to see Popup</strong>'\u001b[0m\u001b[1;33m,\u001b[0m\u001b[0micon\u001b[0m\u001b[1;33m=\u001b[0m\u001b[0mfolium\u001b[0m\u001b[1;33m.\u001b[0m\u001b[0mIcon\u001b[0m\u001b[1;33m(\u001b[0m\u001b[0mcolor\u001b[0m\u001b[1;33m=\u001b[0m\u001b[1;34m'green'\u001b[0m\u001b[1;33m,\u001b[0m\u001b[0mprefix\u001b[0m\u001b[1;33m=\u001b[0m\u001b[1;34m'glyphicon'\u001b[0m\u001b[1;33m,\u001b[0m\u001b[0micon\u001b[0m\u001b[1;33m=\u001b[0m\u001b[1;34m'off'\u001b[0m\u001b[1;33m)\u001b[0m\u001b[1;33m)\u001b[0m\u001b[1;33m.\u001b[0m\u001b[0madd_to\u001b[0m\u001b[1;33m(\u001b[0m\u001b[0mmap3\u001b[0m\u001b[1;33m)\u001b[0m\u001b[1;33m\u001b[0m\u001b[1;33m\u001b[0m\u001b[0m\n\u001b[0;32m      9\u001b[0m \u001b[0mfolium\u001b[0m\u001b[1;33m.\u001b[0m\u001b[0mMarker\u001b[0m\u001b[1;33m(\u001b[0m\u001b[0mlocation\u001b[0m\u001b[1;33m=\u001b[0m\u001b[1;33m[\u001b[0m\u001b[1;36m16.3067\u001b[0m\u001b[1;33m,\u001b[0m \u001b[1;36m80.4365\u001b[0m\u001b[1;33m]\u001b[0m\u001b[1;33m,\u001b[0m\u001b[0mpopup\u001b[0m\u001b[1;33m=\u001b[0m\u001b[1;34m'<h3 style=\"color:green;\">Marker2</h3>'\u001b[0m\u001b[1;33m,\u001b[0m\u001b[0mtooltip\u001b[0m\u001b[1;33m=\u001b[0m\u001b[1;34m'<strong>Click here to see Guntur</strong>'\u001b[0m\u001b[1;33m,\u001b[0m\u001b[0micon\u001b[0m\u001b[1;33m=\u001b[0m\u001b[0mfolium\u001b[0m\u001b[1;33m.\u001b[0m\u001b[0mIcon\u001b[0m\u001b[1;33m(\u001b[0m\u001b[0mcolor\u001b[0m\u001b[1;33m=\u001b[0m\u001b[1;34m'purple'\u001b[0m\u001b[1;33m,\u001b[0m\u001b[0mprefix\u001b[0m\u001b[1;33m=\u001b[0m\u001b[1;34m'fa'\u001b[0m\u001b[1;33m,\u001b[0m\u001b[0micon\u001b[0m\u001b[1;33m=\u001b[0m\u001b[1;34m'anchor'\u001b[0m\u001b[1;33m)\u001b[0m\u001b[1;33m)\u001b[0m\u001b[1;33m.\u001b[0m\u001b[0madd_to\u001b[0m\u001b[1;33m(\u001b[0m\u001b[0mmap3\u001b[0m\u001b[1;33m)\u001b[0m\u001b[1;33m\u001b[0m\u001b[1;33m\u001b[0m\u001b[0m\n",
      "\u001b[1;31mTypeError\u001b[0m: __init__() got an unexpected keyword argument 'tooltip'"
     ]
    }
   ],
   "source": [
    "# Creating Basemap\n",
    "fig3=Figure(width=550,height=350)\n",
    "map3=folium.Map(location=[16.7850, 80.8488],tiles='cartodbpositron',zoom_start=8)\n",
    "fig3.add_child(map3)\n",
    "\n",
    "#Adding markers to the map\n",
    "folium.Marker(location=[16.5062, 80.6480],popup='Default popup Marker1',tooltip='Click here to see more details',icon=folium.Icon(color='red',icon='none')).add_to(map3)\n",
    "folium.Marker(location=[16.7107, 81.0952],popup='<strong>Marker3</strong>',tooltip='<strong>Click here to see Popup</strong>',icon=folium.Icon(color='green',prefix='glyphicon',icon='off')).add_to(map3)\n",
    "folium.Marker(location=[16.3067, 80.4365],popup='<h3 style=\"color:green;\">Marker2</h3>',tooltip='<strong>Click here to see Guntur</strong>',icon=folium.Icon(color='purple',prefix='fa',icon='anchor')).add_to(map3)\n",
    "\n",
    "map3"
   ]
  },
  {
   "cell_type": "code",
   "execution_count": 7,
   "metadata": {
    "executionInfo": {
     "elapsed": 10,
     "status": "ok",
     "timestamp": 1660104795565,
     "user": {
      "displayName": "Sesha Kumar Nalluri",
      "userId": "07214908308309596051"
     },
     "user_tz": -330
    },
    "id": "_iQVfu7Z8-EM"
   },
   "outputs": [],
   "source": [
    "coords_1=[[28.65685,77.21899],[28.65699,77.21898],[28.65699,77.21898],\n",
    "[28.65702,77.21875],[28.65702,77.21875],[28.6547,77.21902],[28.65308,77.21921],\n",
    "[28.65286,77.21926],[28.65255,77.21938],[28.65227,77.21954],[28.65152,77.22005],\n",
    "[28.64655,77.22346],[28.64643,77.22354],[28.64635,77.22357],[28.64623,77.2236],\n",
    "[28.64616,77.22363],[28.64612,77.22364],[28.64557,77.22364],[28.64525,77.22365],\n",
    "[28.64525,77.22365],[28.64517,77.22366],[28.64515,77.22367],[28.64512,77.22367],\n",
    "[28.64504,77.22369],[28.64493,77.22371],[28.64483,77.22373],[28.64462,77.22377],\n",
    "[28.6445,77.22381],[28.64444,77.22383],[28.64439,77.22387],[28.64434,77.2239],\n",
    "[28.64429,77.22395],[28.64421,77.22403],[28.64417,77.22412],[28.64407,77.22429],\n",
    "[28.64391,77.22465],[28.64353,77.22539],[28.64282,77.22678],[28.64282,77.22678],\n",
    "[28.64285,77.2268],[28.64287,77.22683],[28.64289,77.22686],[28.64291,77.2269],\n",
    "[28.64292,77.22694],[28.64292,77.22697],[28.64292,77.22701],[28.64292,77.22705],\n",
    "[28.64292,77.22705],[28.64291,77.22711],[28.64288,77.22716],[28.64285,77.2272],\n",
    "[28.64281,77.22724],[28.64276,77.22726],[28.64271,77.22728],[28.64266,77.22728],\n",
    "[28.64261,77.22727],[28.64261,77.22727],[28.64257,77.22725],[28.64254,77.22723],\n",
    "[28.64251,77.2272],[28.64249,77.22717],[28.64247,77.22713],[28.64245,77.22709],\n",
    "[28.64244,77.22704],[28.64244,77.22699],[28.64245,77.22693],[28.64246,77.22689],\n",
    "[28.64214,77.22665],[28.64169,77.22632],[28.64163,77.22627],[28.64095,77.22582],\n",
    "[28.64009,77.22516],[28.63913,77.22445],[28.63799,77.22352],[28.63794,77.22349],\n",
    "[28.63761,77.22327],[28.6375,77.2232],[28.63737,77.22311],[28.63727,77.22304],\n",
    "[28.63706,77.22288],[28.63631,77.22233],[28.63528,77.2216],[28.63521,77.22154],\n",
    "[28.63521,77.22154],[28.63518,77.22158],[28.63499,77.2218],[28.63471,77.22212],\n",
    "[28.63442,77.22238],[28.63411,77.2226],[28.6339,77.22272],[28.63368,77.22282],\n",
    "[28.63345,77.2229],[28.63313,77.22297],[28.63281,77.22299],[28.63249,77.22298],\n",
    "[28.63217,77.22293],[28.63186,77.22283],[28.63141,77.22256],[28.63125,77.2224],\n",
    "[28.63101,77.22227],[28.63082,77.22207],[28.63062,77.22185],[28.63046,77.22162],\n",
    "[28.63029,77.22141],[28.63029,77.22141],[28.63026,77.22138],[28.63022,77.22136],\n",
    "[28.63018,77.22135],[28.63014,77.22134],[28.6301,77.22134],[28.63006,77.22135],\n",
    "[28.63004,77.22135],[28.63004,77.22135]]\n",
    "\n",
    "coords_2=[[28.63382,77.22045],[28.63458,77.221],[28.63514,77.22142],\n",
    "[28.63517,77.22146],[28.63519,77.22151],[28.63518,77.22158],[28.63518,77.22158],\n",
    "[28.63499,77.2218],[28.63471,77.22212],[28.63442,77.22238],[28.63411,77.2226],\n",
    "[28.6339,77.22272],[28.63368,77.22282],[28.63345,77.2229],[28.63313,77.22297],\n",
    "[28.63281,77.22299],[28.63249,77.22298],[28.63217,77.22293],[28.63186,77.22283],\n",
    "[28.63141,77.22256],[28.63141,77.22256],[28.63129,77.22258],[28.63121,77.22259],\n",
    "[28.63113,77.22266],[28.63072,77.22335],[28.63063,77.22353],[28.63059,77.22359],\n",
    "[28.63046,77.22381],[28.63043,77.22388],[28.62914,77.22615],[28.62914,77.22615],\n",
    "[28.62922,77.22648],[28.62923,77.22651],[28.62924,77.22653],[28.62925,77.22655],\n",
    "[28.62926,77.22657],[28.62935,77.22665],[28.62937,77.22667],[28.62938,77.22669],\n",
    "[28.62939,77.22672],[28.62943,77.22682],[28.62943,77.22682],[28.62972,77.22701],\n",
    "[28.63027,77.22744],[28.63436,77.23048],[28.63456,77.2306],[28.63482,77.23072],\n",
    "[28.63511,77.23084],[28.63545,77.23091],[28.63581,77.23095],[28.63656,77.23101],\n",
    "[28.63673,77.23102],[28.63824,77.23116],[28.63985,77.23134],[28.64039,77.23144],\n",
    "[28.64039,77.23144],[28.64049,77.23147],[28.64038,77.23156],[28.64022,77.23153],\n",
    "[28.64022,77.23153]]\n",
    "\n",
    "coords_3=[[28.63216,77.21864],[28.63225,77.21858],[28.63237,77.21851],\n",
    "[28.6325,77.21846],[28.63262,77.21843],[28.63279,77.21841],[28.63295,77.21843],\n",
    "[28.63311,77.21846],[28.63326,77.21853],[28.63341,77.21862],[28.63341,77.21862],\n",
    "[28.63394,77.21768],[28.6342,77.21722],[28.63425,77.21713],[28.6343,77.21704],\n",
    "[28.6343,77.21704],[28.63432,77.21686],[28.63495,77.21581],[28.6357,77.21452],\n",
    "[28.63745,77.21151],[28.63951,77.20794],[28.63956,77.20787],[28.63971,77.20763],\n",
    "[28.64055,77.2061],[28.64096,77.20533],[28.64106,77.20519],[28.64121,77.20486],\n",
    "[28.64132,77.20468],[28.64179,77.20418],[28.64222,77.20381],[28.64254,77.20346],\n",
    "[28.64267,77.20333],[28.64277,77.2032],[28.64277,77.2032],[28.64281,77.20314],\n",
    "[28.64285,77.20309],[28.64291,77.20306],[28.64297,77.20304],[28.64303,77.20303],\n",
    "[28.64309,77.20304],[28.64315,77.20306],[28.6432,77.2031],[28.64324,77.20314],\n",
    "[28.64327,77.2032],[28.64327,77.2032],[28.64341,77.20336],[28.64375,77.20351],\n",
    "[28.64406,77.20367],[28.64495,77.20426],[28.6459,77.20495],[28.64612,77.2051],\n",
    "[28.64612,77.2051],[28.64629,77.2051],[28.64639,77.20508],[28.64648,77.20506],\n",
    "[28.64657,77.20497],[28.64659,77.20495],[28.64659,77.20495]]"
   ]
  },
  {
   "cell_type": "code",
   "execution_count": 8,
   "metadata": {
    "colab": {
     "base_uri": "https://localhost:8080/",
     "height": 571
    },
    "executionInfo": {
     "elapsed": 433,
     "status": "ok",
     "timestamp": 1660104964800,
     "user": {
      "displayName": "Sesha Kumar Nalluri",
      "userId": "07214908308309596051"
     },
     "user_tz": -330
    },
    "id": "n_y66QWl9AE7",
    "outputId": "beea5de6-ac63-4efc-8210-e9d4009821d1"
   },
   "outputs": [
    {
     "data": {
      "text/html": [
       "<iframe srcdoc=\"&lt;!DOCTYPE html&gt;\n",
       "&lt;head&gt;    \n",
       "    &lt;meta http-equiv=&quot;content-type&quot; content=&quot;text/html; charset=UTF-8&quot; /&gt;\n",
       "    &lt;script&gt;L_PREFER_CANVAS = false; L_NO_TOUCH = false; L_DISABLE_3D = false;&lt;/script&gt;\n",
       "    &lt;script src=&quot;https://cdn.jsdelivr.net/npm/leaflet@1.2.0/dist/leaflet.js&quot;&gt;&lt;/script&gt;\n",
       "    &lt;script src=&quot;https://ajax.googleapis.com/ajax/libs/jquery/1.11.1/jquery.min.js&quot;&gt;&lt;/script&gt;\n",
       "    &lt;script src=&quot;https://maxcdn.bootstrapcdn.com/bootstrap/3.2.0/js/bootstrap.min.js&quot;&gt;&lt;/script&gt;\n",
       "    &lt;script src=&quot;https://cdnjs.cloudflare.com/ajax/libs/Leaflet.awesome-markers/2.0.2/leaflet.awesome-markers.js&quot;&gt;&lt;/script&gt;\n",
       "    &lt;link rel=&quot;stylesheet&quot; href=&quot;https://cdn.jsdelivr.net/npm/leaflet@1.2.0/dist/leaflet.css&quot;/&gt;\n",
       "    &lt;link rel=&quot;stylesheet&quot; href=&quot;https://maxcdn.bootstrapcdn.com/bootstrap/3.2.0/css/bootstrap.min.css&quot;/&gt;\n",
       "    &lt;link rel=&quot;stylesheet&quot; href=&quot;https://maxcdn.bootstrapcdn.com/bootstrap/3.2.0/css/bootstrap-theme.min.css&quot;/&gt;\n",
       "    &lt;link rel=&quot;stylesheet&quot; href=&quot;https://maxcdn.bootstrapcdn.com/font-awesome/4.6.3/css/font-awesome.min.css&quot;/&gt;\n",
       "    &lt;link rel=&quot;stylesheet&quot; href=&quot;https://cdnjs.cloudflare.com/ajax/libs/Leaflet.awesome-markers/2.0.2/leaflet.awesome-markers.css&quot;/&gt;\n",
       "    &lt;link rel=&quot;stylesheet&quot; href=&quot;https://rawgit.com/python-visualization/folium/master/folium/templates/leaflet.awesome.rotate.css&quot;/&gt;\n",
       "    &lt;style&gt;html, body {width: 100%;height: 100%;margin: 0;padding: 0;}&lt;/style&gt;\n",
       "    &lt;style&gt;#map {position:absolute;top:0;bottom:0;right:0;left:0;}&lt;/style&gt;\n",
       "    \n",
       "            &lt;style&gt; #map_26d6e9d3701f43c048663e4e5ddcfda1 {\n",
       "                position : relative;\n",
       "                width : 100.0%;\n",
       "                height: 100.0%;\n",
       "                left: 0.0%;\n",
       "                top: 0.0%;\n",
       "                }\n",
       "            &lt;/style&gt;\n",
       "        \n",
       "&lt;/head&gt;\n",
       "&lt;body&gt;    \n",
       "    \n",
       "            &lt;div class=&quot;folium-map&quot; id=&quot;map_26d6e9d3701f43c048663e4e5ddcfda1&quot; &gt;&lt;/div&gt;\n",
       "        \n",
       "&lt;/body&gt;\n",
       "&lt;script&gt;    \n",
       "    \n",
       "\n",
       "            \n",
       "                var bounds = null;\n",
       "            \n",
       "\n",
       "            var map_26d6e9d3701f43c048663e4e5ddcfda1 = L.map(\n",
       "                                  &#x27;map_26d6e9d3701f43c048663e4e5ddcfda1&#x27;,\n",
       "                                  {center: [28.6448,77.216721],\n",
       "                                  zoom: 14,\n",
       "                                  maxBounds: bounds,\n",
       "                                  layers: [],\n",
       "                                  worldCopyJump: false,\n",
       "                                  crs: L.CRS.EPSG3857\n",
       "                                 });\n",
       "            \n",
       "        \n",
       "    \n",
       "            var tile_layer_67b28de4f3135b7d0d8c98545190d9ee = L.tileLayer(\n",
       "                &#x27;https://cartodb-basemaps-{s}.global.ssl.fastly.net/light_all/{z}/{x}/{y}.png&#x27;,\n",
       "                {\n",
       "  &quot;attribution&quot;: null,\n",
       "  &quot;detectRetina&quot;: false,\n",
       "  &quot;maxZoom&quot;: 18,\n",
       "  &quot;minZoom&quot;: 1,\n",
       "  &quot;noWrap&quot;: false,\n",
       "  &quot;subdomains&quot;: &quot;abc&quot;\n",
       "}\n",
       "                ).addTo(map_26d6e9d3701f43c048663e4e5ddcfda1);\n",
       "        \n",
       "&lt;/script&gt;\" width=\"750\" height=\"550\"style=\"border:none !important;\" \"allowfullscreen\" \"webkitallowfullscreen\" \"mozallowfullscreen\"></iframe>"
      ],
      "text/plain": [
       "<branca.element.Figure at 0x21a73f23430>"
      ]
     },
     "execution_count": 8,
     "metadata": {},
     "output_type": "execute_result"
    }
   ],
   "source": [
    "fig5=Figure(height=550,width=750)\n",
    "map5=folium.Map(location=[28.644800, 77.216721],tiles='cartodbpositron',zoom_start=14)\n",
    "fig5.add_child(map5)"
   ]
  },
  {
   "cell_type": "code",
   "execution_count": 9,
   "metadata": {
    "colab": {
     "base_uri": "https://localhost:8080/",
     "height": 571
    },
    "executionInfo": {
     "elapsed": 472,
     "status": "ok",
     "timestamp": 1660105394841,
     "user": {
      "displayName": "Sesha Kumar Nalluri",
      "userId": "07214908308309596051"
     },
     "user_tz": -330
    },
    "id": "kPDb0aZw-d5w",
    "outputId": "ff3f5ecb-4605-48b8-b246-ba254ce02e4b"
   },
   "outputs": [
    {
     "ename": "AttributeError",
     "evalue": "module 'folium' has no attribute 'vector_layers'",
     "output_type": "error",
     "traceback": [
      "\u001b[1;31m---------------------------------------------------------------------------\u001b[0m",
      "\u001b[1;31mAttributeError\u001b[0m                            Traceback (most recent call last)",
      "\u001b[1;32m<ipython-input-9-53ef98c80bf8>\u001b[0m in \u001b[0;36m<module>\u001b[1;34m\u001b[0m\n\u001b[0;32m      5\u001b[0m \u001b[1;33m\u001b[0m\u001b[0m\n\u001b[0;32m      6\u001b[0m \u001b[1;31m# Adding lines to the different feature groups\u001b[0m\u001b[1;33m\u001b[0m\u001b[1;33m\u001b[0m\u001b[1;33m\u001b[0m\u001b[0m\n\u001b[1;32m----> 7\u001b[1;33m \u001b[0mline_1\u001b[0m\u001b[1;33m=\u001b[0m\u001b[0mfolium\u001b[0m\u001b[1;33m.\u001b[0m\u001b[0mvector_layers\u001b[0m\u001b[1;33m.\u001b[0m\u001b[0mPolyLine\u001b[0m\u001b[1;33m(\u001b[0m\u001b[0mcoords_1\u001b[0m\u001b[1;33m,\u001b[0m\u001b[0mpopup\u001b[0m\u001b[1;33m=\u001b[0m\u001b[1;34m'<b>Path of Vehicle_1</b>'\u001b[0m\u001b[1;33m,\u001b[0m\u001b[0mtooltip\u001b[0m\u001b[1;33m=\u001b[0m\u001b[1;34m'Vehicle_1'\u001b[0m\u001b[1;33m,\u001b[0m\u001b[0mcolor\u001b[0m\u001b[1;33m=\u001b[0m\u001b[1;34m'blue'\u001b[0m\u001b[1;33m,\u001b[0m\u001b[0mweight\u001b[0m\u001b[1;33m=\u001b[0m\u001b[1;36m10\u001b[0m\u001b[1;33m)\u001b[0m\u001b[1;33m.\u001b[0m\u001b[0madd_to\u001b[0m\u001b[1;33m(\u001b[0m\u001b[0mf1\u001b[0m\u001b[1;33m)\u001b[0m\u001b[1;33m\u001b[0m\u001b[1;33m\u001b[0m\u001b[0m\n\u001b[0m\u001b[0;32m      8\u001b[0m \u001b[0mline_2\u001b[0m\u001b[1;33m=\u001b[0m\u001b[0mfolium\u001b[0m\u001b[1;33m.\u001b[0m\u001b[0mvector_layers\u001b[0m\u001b[1;33m.\u001b[0m\u001b[0mPolyLine\u001b[0m\u001b[1;33m(\u001b[0m\u001b[0mcoords_2\u001b[0m\u001b[1;33m,\u001b[0m\u001b[0mpopup\u001b[0m\u001b[1;33m=\u001b[0m\u001b[1;34m'<b>Path of Vehicle_2</b>'\u001b[0m\u001b[1;33m,\u001b[0m\u001b[0mtooltip\u001b[0m\u001b[1;33m=\u001b[0m\u001b[1;34m'Vehicle_2'\u001b[0m\u001b[1;33m,\u001b[0m\u001b[0mcolor\u001b[0m\u001b[1;33m=\u001b[0m\u001b[1;34m'red'\u001b[0m\u001b[1;33m,\u001b[0m\u001b[0mweight\u001b[0m\u001b[1;33m=\u001b[0m\u001b[1;36m10\u001b[0m\u001b[1;33m)\u001b[0m\u001b[1;33m.\u001b[0m\u001b[0madd_to\u001b[0m\u001b[1;33m(\u001b[0m\u001b[0mf2\u001b[0m\u001b[1;33m)\u001b[0m\u001b[1;33m\u001b[0m\u001b[1;33m\u001b[0m\u001b[0m\n\u001b[0;32m      9\u001b[0m \u001b[0mline_3\u001b[0m\u001b[1;33m=\u001b[0m\u001b[0mfolium\u001b[0m\u001b[1;33m.\u001b[0m\u001b[0mvector_layers\u001b[0m\u001b[1;33m.\u001b[0m\u001b[0mPolyLine\u001b[0m\u001b[1;33m(\u001b[0m\u001b[0mcoords_3\u001b[0m\u001b[1;33m,\u001b[0m\u001b[0mpopup\u001b[0m\u001b[1;33m=\u001b[0m\u001b[1;34m'<b>Path of Vehicle_3</b>'\u001b[0m\u001b[1;33m,\u001b[0m\u001b[0mtooltip\u001b[0m\u001b[1;33m=\u001b[0m\u001b[1;34m'Vehicle_3'\u001b[0m\u001b[1;33m,\u001b[0m\u001b[0mcolor\u001b[0m\u001b[1;33m=\u001b[0m\u001b[1;34m'green'\u001b[0m\u001b[1;33m,\u001b[0m\u001b[0mweight\u001b[0m\u001b[1;33m=\u001b[0m\u001b[1;36m10\u001b[0m\u001b[1;33m)\u001b[0m\u001b[1;33m.\u001b[0m\u001b[0madd_to\u001b[0m\u001b[1;33m(\u001b[0m\u001b[0mf3\u001b[0m\u001b[1;33m)\u001b[0m\u001b[1;33m\u001b[0m\u001b[1;33m\u001b[0m\u001b[0m\n",
      "\u001b[1;31mAttributeError\u001b[0m: module 'folium' has no attribute 'vector_layers'"
     ]
    }
   ],
   "source": [
    "# Creating feature groups\n",
    "f1=folium.FeatureGroup(\"Vehicle 1\")\n",
    "f2=folium.FeatureGroup(\"Vehicle 2\")\n",
    "f3=folium.FeatureGroup(\"Vehicle 3\")\n",
    "\n",
    "# Adding lines to the different feature groups\n",
    "line_1=folium.vector_layers.PolyLine(coords_1,popup='<b>Path of Vehicle_1</b>',tooltip='Vehicle_1',color='blue',weight=10).add_to(f1)\n",
    "line_2=folium.vector_layers.PolyLine(coords_2,popup='<b>Path of Vehicle_2</b>',tooltip='Vehicle_2',color='red',weight=10).add_to(f2)\n",
    "line_3=folium.vector_layers.PolyLine(coords_3,popup='<b>Path of Vehicle_3</b>',tooltip='Vehicle_3',color='green',weight=10).add_to(f3)\n",
    "\n",
    "f1.add_to(map5)\n",
    "f2.add_to(map5)\n",
    "f3.add_to(map5)\n",
    "folium.LayerControl().add_to(map5)\n",
    "map5"
   ]
  },
  {
   "cell_type": "code",
   "execution_count": 10,
   "metadata": {
    "colab": {
     "base_uri": "https://localhost:8080/"
    },
    "executionInfo": {
     "elapsed": 1700,
     "status": "ok",
     "timestamp": 1660113148694,
     "user": {
      "displayName": "Sesha Kumar Nalluri",
      "userId": "07214908308309596051"
     },
     "user_tz": -330
    },
    "id": "p3tU13JyAS5s",
    "outputId": "00791290-a297-4b9f-e08f-0c89c042dc62"
   },
   "outputs": [
    {
     "ename": "AttributeError",
     "evalue": "module 'folium' has no attribute 'Choropleth'",
     "output_type": "error",
     "traceback": [
      "\u001b[1;31m---------------------------------------------------------------------------\u001b[0m",
      "\u001b[1;31mAttributeError\u001b[0m                            Traceback (most recent call last)",
      "\u001b[1;32m<ipython-input-10-732f04128005>\u001b[0m in \u001b[0;36m<module>\u001b[1;34m\u001b[0m\n\u001b[0;32m     10\u001b[0m \u001b[0mm\u001b[0m \u001b[1;33m=\u001b[0m \u001b[0mfolium\u001b[0m\u001b[1;33m.\u001b[0m\u001b[0mMap\u001b[0m\u001b[1;33m(\u001b[0m\u001b[0mlocation\u001b[0m\u001b[1;33m=\u001b[0m\u001b[1;33m[\u001b[0m\u001b[1;36m48\u001b[0m\u001b[1;33m,\u001b[0m \u001b[1;33m-\u001b[0m\u001b[1;36m102\u001b[0m\u001b[1;33m]\u001b[0m\u001b[1;33m,\u001b[0m \u001b[0mzoom_start\u001b[0m\u001b[1;33m=\u001b[0m\u001b[1;36m3\u001b[0m\u001b[1;33m)\u001b[0m\u001b[1;33m\u001b[0m\u001b[1;33m\u001b[0m\u001b[0m\n\u001b[0;32m     11\u001b[0m \u001b[1;33m\u001b[0m\u001b[0m\n\u001b[1;32m---> 12\u001b[1;33m folium.Choropleth(\n\u001b[0m\u001b[0;32m     13\u001b[0m     \u001b[0mgeo_data\u001b[0m\u001b[1;33m=\u001b[0m\u001b[0mstate_geo\u001b[0m\u001b[1;33m,\u001b[0m\u001b[1;33m\u001b[0m\u001b[1;33m\u001b[0m\u001b[0m\n\u001b[0;32m     14\u001b[0m     \u001b[0mname\u001b[0m\u001b[1;33m=\u001b[0m\u001b[1;34m\"choropleth\"\u001b[0m\u001b[1;33m,\u001b[0m\u001b[1;33m\u001b[0m\u001b[1;33m\u001b[0m\u001b[0m\n",
      "\u001b[1;31mAttributeError\u001b[0m: module 'folium' has no attribute 'Choropleth'"
     ]
    }
   ],
   "source": [
    "import pandas as pd\n",
    "\n",
    "url = (\n",
    "    \"https://raw.githubusercontent.com/python-visualization/folium/master/examples/data\"\n",
    ")\n",
    "state_geo = f\"{url}/us-states.json\"\n",
    "state_unemployment = f\"{url}/US_Unemployment_Oct2012.csv\"\n",
    "state_data = pd.read_csv(state_unemployment)\n",
    "\n",
    "m = folium.Map(location=[48, -102], zoom_start=3)\n",
    "\n",
    "folium.Choropleth(\n",
    "    geo_data=state_geo,\n",
    "    name=\"choropleth\",\n",
    "    data=state_data,\n",
    "    columns=[\"State\", \"Unemployment\"],\n",
    "    key_on=\"feature.id\",\n",
    "    fill_color=\"YlGn\",\n",
    "    fill_opacity=0.8,\n",
    "    line_opacity=0.2,\n",
    "    legend_name=\"Unemployment Rate (%)\",\n",
    ").add_to(m)\n",
    "\n",
    "folium.LayerControl().add_to(m)\n",
    "b\n",
    "m"
   ]
  },
  {
   "cell_type": "markdown",
   "metadata": {},
   "source": [
    "**MY VILLAGE ROUTE**"
   ]
  },
  {
   "cell_type": "code",
   "execution_count": 11,
   "metadata": {},
   "outputs": [],
   "source": [
    "path1=[[16.784888313189743, 80.84660345617763],[16.74105083842801, 80.89861288069633],[16.727085836055263, 80.91064283157631],[16.708119581078204, 80.9252830188909],\n",
    "       [16.678072381848303, 80.95056607797736],[16.685501065377615, 80.9832638247181],[16.6875,81.0058],[16.711389733176375, 81.02507056218167],[16.76813007964905, 81.21081814161424]\n",
    "       ,[16.782667198316805, 81.22569774088448],[16.79778462178353, 81.22843072862948],[16.830341136677795, 81.25029463354574],[16.865798116275627, 81.30373972768756]\n",
    "       ,[16.914322702789836, 81.35505916190533],[17.04105257173189, 81.6139232306011],[17.046568815303143, 81.84136854782354],[17.170786220174296, 82.05393425168414]\n",
    "       ,[17.292600969096217, 82.11038549198246]]\n",
    "\n",
    "path2=[[16.784888313189743, 80.84660345617763],[16.74105083842801, 80.89861288069633],[16.727085836055263, 80.91064283157631],[16.708119581078204, 80.9252830188909],\n",
    "       [16.678072381848303, 80.95056607797736],[16.654559345610387, 80.99764416980719],[16.66935623064159, 81.01337825747034],[16.711389733176375, 81.02507056218167],[16.76813007964905, 81.21081814161424]\n",
    "       ,[16.782667198316805, 81.22569774088448],[16.79778462178353, 81.22843072862948],[16.830341136677795, 81.25029463354574],[16.865798116275627, 81.30373972768756]\n",
    "       ,[16.914322702789836, 81.35505916190533],[17.04105257173189, 81.6139232306011],[17.046568815303143, 81.84136854782354],[17.170786220174296, 82.05393425168414]\n",
    "       ,[17.292600969096217, 82.11038549198246]]\n",
    "\n",
    "path3=[[16.784888313189743, 80.84660345617763],[16.74105083842801, 80.89861288069633],[16.727085836055263, 80.91064283157631],[16.708119581078204, 80.9252830188909],\n",
    "       [16.678072381848303, 80.95056607797736],[16.654559345610387, 80.99764416980719],[16.66935623064159, 81.01337825747034],[16.711389733176375, 81.02507056218167],[16.7107,81.0952],\n",
    "       [16.830341136677795, 81.25029463354574],[16.865798116275627, 81.30373972768756]\n",
    "       ,[16.914322702789836, 81.35505916190533],[17.04105257173189, 81.6139232306011],[17.046568815303143, 81.84136854782354],[17.170786220174296, 82.05393425168414]\n",
    "       ,[17.292600969096217, 82.11038549198246]]\n",
    "path4=[[16.784888313189743, 80.84660345617763],[16.74105083842801, 80.89861288069633],[16.727085836055263, 80.91064283157631],[16.708119581078204, 80.9252830188909],\n",
    "       [16.678072381848303, 80.95056607797736],[16.654559345610387, 80.99764416980719],[16.66935623064159, 81.01337825747034],[16.711389733176375, 81.02507056218167],[16.7107,81.0952]\n",
    "       ,[17.00911862555443, 81.80554970624247],[17.08352923205807, 81.901112909183],[17.085100233729467, 82.0732377213678],[17.0050912368856, 82.23794680295217],[17.05892670232204, 82.16241580149607],\n",
    "       [17.17179941134787, 82.06491214507093],[17.281980883548215, 82.10885745500903]\n",
    "       ]"
   ]
  },
  {
   "cell_type": "code",
   "execution_count": 12,
   "metadata": {},
   "outputs": [
    {
     "ename": "AttributeError",
     "evalue": "module 'folium' has no attribute 'vector_layers'",
     "output_type": "error",
     "traceback": [
      "\u001b[1;31m---------------------------------------------------------------------------\u001b[0m",
      "\u001b[1;31mAttributeError\u001b[0m                            Traceback (most recent call last)",
      "\u001b[1;32m<ipython-input-12-ae0d21fbe633>\u001b[0m in \u001b[0;36m<module>\u001b[1;34m\u001b[0m\n\u001b[0;32m      6\u001b[0m \u001b[0mf3\u001b[0m\u001b[1;33m=\u001b[0m\u001b[0mfolium\u001b[0m\u001b[1;33m.\u001b[0m\u001b[0mFeatureGroup\u001b[0m\u001b[1;33m(\u001b[0m\u001b[1;34m\"ROUTE 3\"\u001b[0m\u001b[1;33m)\u001b[0m\u001b[1;33m\u001b[0m\u001b[1;33m\u001b[0m\u001b[0m\n\u001b[0;32m      7\u001b[0m \u001b[0mf4\u001b[0m\u001b[1;33m=\u001b[0m\u001b[0mfolium\u001b[0m\u001b[1;33m.\u001b[0m\u001b[0mFeatureGroup\u001b[0m\u001b[1;33m(\u001b[0m\u001b[1;34m\"ROUTE 4\"\u001b[0m\u001b[1;33m)\u001b[0m\u001b[1;33m\u001b[0m\u001b[1;33m\u001b[0m\u001b[0m\n\u001b[1;32m----> 8\u001b[1;33m \u001b[0mline_1\u001b[0m\u001b[1;33m=\u001b[0m\u001b[0mfolium\u001b[0m\u001b[1;33m.\u001b[0m\u001b[0mvector_layers\u001b[0m\u001b[1;33m.\u001b[0m\u001b[0mPolyLine\u001b[0m\u001b[1;33m(\u001b[0m\u001b[0mpath1\u001b[0m\u001b[1;33m,\u001b[0m\u001b[0mpopup\u001b[0m\u001b[1;33m=\u001b[0m\u001b[1;34m'<b>R-1</b>'\u001b[0m\u001b[1;33m,\u001b[0m\u001b[0mtooltip\u001b[0m\u001b[1;33m=\u001b[0m\u001b[1;34m'Vehicle_1'\u001b[0m\u001b[1;33m,\u001b[0m\u001b[0mcolor\u001b[0m\u001b[1;33m=\u001b[0m\u001b[1;34m'blue'\u001b[0m\u001b[1;33m,\u001b[0m\u001b[0mweight\u001b[0m\u001b[1;33m=\u001b[0m\u001b[1;36m10\u001b[0m\u001b[1;33m)\u001b[0m\u001b[1;33m.\u001b[0m\u001b[0madd_to\u001b[0m\u001b[1;33m(\u001b[0m\u001b[0mf1\u001b[0m\u001b[1;33m)\u001b[0m\u001b[1;33m\u001b[0m\u001b[1;33m\u001b[0m\u001b[0m\n\u001b[0m\u001b[0;32m      9\u001b[0m \u001b[0mline_2\u001b[0m\u001b[1;33m=\u001b[0m\u001b[0mfolium\u001b[0m\u001b[1;33m.\u001b[0m\u001b[0mvector_layers\u001b[0m\u001b[1;33m.\u001b[0m\u001b[0mPolyLine\u001b[0m\u001b[1;33m(\u001b[0m\u001b[0mpath2\u001b[0m\u001b[1;33m,\u001b[0m\u001b[0mpopup\u001b[0m\u001b[1;33m=\u001b[0m\u001b[1;34m'<b>R-2</b>'\u001b[0m\u001b[1;33m,\u001b[0m\u001b[0mtooltip\u001b[0m\u001b[1;33m=\u001b[0m\u001b[1;34m'Vehicle_2'\u001b[0m\u001b[1;33m,\u001b[0m\u001b[0mcolor\u001b[0m\u001b[1;33m=\u001b[0m\u001b[1;34m'green'\u001b[0m\u001b[1;33m,\u001b[0m\u001b[0mweight\u001b[0m\u001b[1;33m=\u001b[0m\u001b[1;36m10\u001b[0m\u001b[1;33m)\u001b[0m\u001b[1;33m.\u001b[0m\u001b[0madd_to\u001b[0m\u001b[1;33m(\u001b[0m\u001b[0mf2\u001b[0m\u001b[1;33m)\u001b[0m\u001b[1;33m\u001b[0m\u001b[1;33m\u001b[0m\u001b[0m\n\u001b[0;32m     10\u001b[0m \u001b[0mline_3\u001b[0m\u001b[1;33m=\u001b[0m\u001b[0mfolium\u001b[0m\u001b[1;33m.\u001b[0m\u001b[0mvector_layers\u001b[0m\u001b[1;33m.\u001b[0m\u001b[0mPolyLine\u001b[0m\u001b[1;33m(\u001b[0m\u001b[0mpath3\u001b[0m\u001b[1;33m,\u001b[0m\u001b[0mpopup\u001b[0m\u001b[1;33m=\u001b[0m\u001b[1;34m'<b>R-3</b>'\u001b[0m\u001b[1;33m,\u001b[0m\u001b[0mtooltip\u001b[0m\u001b[1;33m=\u001b[0m\u001b[1;34m'Vehicle_3'\u001b[0m\u001b[1;33m,\u001b[0m\u001b[0mcolor\u001b[0m\u001b[1;33m=\u001b[0m\u001b[1;34m'red'\u001b[0m\u001b[1;33m,\u001b[0m\u001b[0mweight\u001b[0m\u001b[1;33m=\u001b[0m\u001b[1;36m10\u001b[0m\u001b[1;33m)\u001b[0m\u001b[1;33m.\u001b[0m\u001b[0madd_to\u001b[0m\u001b[1;33m(\u001b[0m\u001b[0mf3\u001b[0m\u001b[1;33m)\u001b[0m\u001b[1;33m\u001b[0m\u001b[1;33m\u001b[0m\u001b[0m\n",
      "\u001b[1;31mAttributeError\u001b[0m: module 'folium' has no attribute 'vector_layers'"
     ]
    }
   ],
   "source": [
    "fig5=Figure(height=550,width=750)\n",
    "map5=folium.Map(location=[17.292600969096217, 82.11038549198246],tiles='cartodbpositron',zoom_start=14)\n",
    "fig5.add_child(map5)\n",
    "f1=folium.FeatureGroup(\"ROUTE 1\")\n",
    "f2=folium.FeatureGroup(\"ROUTE 2\")\n",
    "f3=folium.FeatureGroup(\"ROUTE 3\")\n",
    "f4=folium.FeatureGroup(\"ROUTE 4\")\n",
    "line_1=folium.vector_layers.PolyLine(path1,popup='<b>R-1</b>',tooltip='Vehicle_1',color='blue',weight=10).add_to(f1)\n",
    "line_2=folium.vector_layers.PolyLine(path2,popup='<b>R-2</b>',tooltip='Vehicle_2',color='green',weight=10).add_to(f2)\n",
    "line_3=folium.vector_layers.PolyLine(path3,popup='<b>R-3</b>',tooltip='Vehicle_3',color='red',weight=10).add_to(f3)\n",
    "line_4=folium.vector_layers.PolyLine(path4,popup='<b>R-4</b>',tooltip='Vehicle_4',color='yellow',weight=10).add_to(f4)\n",
    "f1.add_to(map5)\n",
    "f2.add_to(map5)\n",
    "f3.add_to(map5)\n",
    "f4.add_to(map5)\n",
    "folium.Marker(location=[16.9891, 82.2475],tooltip='KAKINADA',icon=folium.Icon(color='red',icon='anchor')).add_to(map5)\n",
    "folium.Marker(location=[16.6356, 80.9716],tooltip='HJN HANUMA',icon=folium.Icon(color='green',icon='temple')).add_to(map5)\n",
    "folium.Marker(location=[16.7107, 81.0952],tooltip='ELURU',icon=folium.Icon(color='green',icon='cloud')).add_to(map5)\n",
    "folium.Marker(location=[17.0005,81.8040],tooltip='RAJAMUNDRY',icon=folium.Icon(color='pink',icon='none')).add_to(map5)\n",
    "folium.Marker(location=[16.784888313189743, 80.84660345617763],tooltip='NUZVID',icon=folium.Icon(color='yellow')).add_to(map5)\n",
    "folium.Marker(location=[17.17179941134787, 82.06491214507093],tooltip='JAGGAMPETA',icon=folium.Icon(color='green',icon='temple')).add_to(map5)\n",
    "folium.Marker(location=[17.281980883548215, 82.10885745500903],tooltip='YELESWARAM',icon=folium.Icon(color='black',icon='home')).add_to(map5)\n",
    "folium.Marker(location=[16.7272, 82.2176],tooltip='YANAM',icon=folium.Icon(color='blue',icon='home')).add_to(map5)\n",
    "folium.Marker(location=[16.8100, 82.2393],tooltip='KORINGA WILD LIFE SANCTURY',icon=folium.Icon(color='green',icon='forest')).add_to(map5)\n",
    "map5"
   ]
  }
 ],
 "metadata": {
  "colab": {
   "authorship_tag": "ABX9TyPf2+1iyLV7siosHKGyyV+s",
   "name": "map.ipynb",
   "provenance": []
  },
  "kernelspec": {
   "display_name": "Python 3",
   "language": "python",
   "name": "python3"
  },
  "language_info": {
   "codemirror_mode": {
    "name": "ipython",
    "version": 3
   },
   "file_extension": ".py",
   "mimetype": "text/x-python",
   "name": "python",
   "nbconvert_exporter": "python",
   "pygments_lexer": "ipython3",
   "version": "3.8.3"
  }
 },
 "nbformat": 4,
 "nbformat_minor": 1
}
